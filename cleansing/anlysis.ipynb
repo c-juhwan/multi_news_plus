{
 "cells": [
  {
   "cell_type": "code",
   "execution_count": 11,
   "metadata": {},
   "outputs": [],
   "source": [
    "import os\n",
    "import json\n",
    "from tqdm.auto import tqdm\n",
    "import matplotlib.pyplot as plt\n",
    "import seaborn as sns\n",
    "\n",
    "cleansed_path = 'cleansed_data.json'\n",
    "with open(cleansed_path, 'r') as f:\n",
    "    cleansed_data = json.load(f)\n"
   ]
  },
  {
   "cell_type": "code",
   "execution_count": 12,
   "metadata": {},
   "outputs": [
    {
     "name": "stderr",
     "output_type": "stream",
     "text": [
      "0it [00:00, ?it/s]"
     ]
    },
    {
     "name": "stderr",
     "output_type": "stream",
     "text": [
      "56216it [03:55, 239.05it/s] "
     ]
    },
    {
     "name": "stdout",
     "output_type": "stream",
     "text": [
      "Number of duplicated summaries: 0\n"
     ]
    },
    {
     "name": "stderr",
     "output_type": "stream",
     "text": [
      "\n"
     ]
    }
   ],
   "source": [
    "# Check if there is a duplicated 'summary'\n",
    "\n",
    "duplicated_summaries = []\n",
    "\n",
    "for i, data in tqdm(enumerate(cleansed_data)):\n",
    "    if data['summary'] in [x['summary'] for x in cleansed_data[:i]]:\n",
    "        duplicated_summaries.append(data['summary'])\n",
    "\n",
    "print(f'Number of duplicated summaries: {len(duplicated_summaries)}')"
   ]
  },
  {
   "cell_type": "code",
   "execution_count": 14,
   "metadata": {},
   "outputs": [
    {
     "name": "stderr",
     "output_type": "stream",
     "text": [
      "56216it [00:00, 1095700.11it/s]"
     ]
    },
    {
     "name": "stdout",
     "output_type": "stream",
     "text": [
      "Number of empty summaries: 0\n"
     ]
    },
    {
     "name": "stderr",
     "output_type": "stream",
     "text": [
      "\n"
     ]
    }
   ],
   "source": [
    "# Check if there is a empty 'summary'\n",
    "\n",
    "empty_summaries = []\n",
    "\n",
    "for i, data in tqdm(enumerate(cleansed_data)):\n",
    "    if data['summary'] == '':\n",
    "        empty_summaries.append(i)\n",
    "\n",
    "print(f'Number of empty summaries: {len(empty_summaries)}')"
   ]
  },
  {
   "cell_type": "code",
   "execution_count": 15,
   "metadata": {},
   "outputs": [
    {
     "name": "stderr",
     "output_type": "stream",
     "text": [
      "56216it [00:00, 236251.23it/s]"
     ]
    },
    {
     "name": "stdout",
     "output_type": "stream",
     "text": [
      "Number of duplicate raw documents: 570\n"
     ]
    },
    {
     "name": "stderr",
     "output_type": "stream",
     "text": [
      "\n"
     ]
    }
   ],
   "source": [
    "# Check if there is a duplicate within each 'raw_documents'\n",
    "\n",
    "duplicate_raw_documents = []\n",
    "\n",
    "for i, data in tqdm(enumerate(cleansed_data)):\n",
    "    # Check if there is a duplicate in data['raw_document']\n",
    "    if len(data['raw_document']) != len(set(data['raw_document'])):\n",
    "        duplicate_raw_documents.append(i)\n",
    "\n",
    "print(f'Number of duplicate raw documents: {len(duplicate_raw_documents)}')\n"
   ]
  },
  {
   "cell_type": "code",
   "execution_count": 22,
   "metadata": {},
   "outputs": [
    {
     "name": "stderr",
     "output_type": "stream",
     "text": [
      "56216it [00:00, 523783.70it/s]"
     ]
    },
    {
     "name": "stdout",
     "output_type": "stream",
     "text": [
      "Number of empty raw documents: 544\n"
     ]
    },
    {
     "name": "stderr",
     "output_type": "stream",
     "text": [
      "\n"
     ]
    }
   ],
   "source": [
    "# Check if there is an empty article within each 'raw_documents'\n",
    "\n",
    "duplicate_raw_documents = []\n",
    "\n",
    "for i, data in tqdm(enumerate(cleansed_data)):\n",
    "    # Check if there is an empty article in data['raw_document']\n",
    "    if '' in data['raw_document']:\n",
    "        duplicate_raw_documents.append(i)\n",
    "\n",
    "print(f'Number of empty raw documents: {len(duplicate_raw_documents)}')\n"
   ]
  },
  {
   "cell_type": "code",
   "execution_count": 20,
   "metadata": {},
   "outputs": [],
   "source": [
    "def get_abstractivity_ratio(article_list: list, summary: str) -> float:\n",
    "    \"\"\"\n",
    "    Get get_abstractivity_ratio ratio of summary.\n",
    "    \"\"\"\n",
    "    summary_words = summary.split()\n",
    "    article_words = [word for article in article_list for word in article.split()]\n",
    "\n",
    "    # Get number of words in summary that are also in article\n",
    "    coverage = 0\n",
    "    for word in summary_words:\n",
    "        if word in article_words:\n",
    "            coverage += 1\n",
    "\n",
    "    return 1 - (coverage / len(summary_words))\n",
    "\n",
    "def get_compression_ratio(article_list: list, summary: str) -> float:\n",
    "    \"\"\"\n",
    "    Get compression ratio of summary.\n",
    "    \"\"\"\n",
    "    summary_words = summary.split()\n",
    "    article_words = [word for article in article_list for word in article.split()]\n",
    "\n",
    "    return 1 - (len(summary_words) / len(article_words))"
   ]
  },
  {
   "cell_type": "code",
   "execution_count": 21,
   "metadata": {},
   "outputs": [
    {
     "name": "stderr",
     "output_type": "stream",
     "text": [
      "56216it [00:40, 1388.79it/s]"
     ]
    },
    {
     "name": "stdout",
     "output_type": "stream",
     "text": [
      "Average abstractivity ratio: 0.41416674804480585\n",
      "Average compression ratio: 0.4618661500032838\n"
     ]
    },
    {
     "name": "stderr",
     "output_type": "stream",
     "text": [
      "\n"
     ]
    }
   ],
   "source": [
    "for i, data in tqdm(enumerate(cleansed_data)):\n",
    "    data['abstractivity_ratio'] = get_abstractivity_ratio(data['raw_document'], data['summary'])\n",
    "    data['compression_ratio'] = get_compression_ratio(data['raw_document'], data['summary'])\n",
    "\n",
    "# Print average abstractivity ratio and compression ratio\n",
    "\n",
    "abstractivity_ratios = [data['abstractivity_ratio'] for data in cleansed_data]\n",
    "compression_ratios = [data['compression_ratio'] for data in cleansed_data]\n",
    "\n",
    "print(f'Average abstractivity ratio: {sum(abstractivity_ratios) / len(abstractivity_ratios)}')\n",
    "print(f'Average compression ratio: {sum(compression_ratios) / len(compression_ratios)}')"
   ]
  },
  {
   "cell_type": "code",
   "execution_count": 28,
   "metadata": {},
   "outputs": [
    {
     "name": "stderr",
     "output_type": "stream",
     "text": [
      "56216it [00:01, 37534.06it/s]\n"
     ]
    },
    {
     "name": "stdout",
     "output_type": "stream",
     "text": [
      "Average article word length: 433.61966344101324\n",
      "Average article sentence length: 23.427102604240787\n"
     ]
    }
   ],
   "source": [
    "# Average article amount & word length\n",
    "\n",
    "for i, data in tqdm(enumerate(cleansed_data)):\n",
    "    concat_article = ' '.join(data['raw_document'])\n",
    "\n",
    "    # Word length\n",
    "    data['article_word_length'] = len(concat_article.split())\n",
    "\n",
    "    # Sentence length\n",
    "    data['article_sentence_length'] = len(concat_article.split('.'))\n",
    "\n",
    "article_word_lengths = [data['article_word_length'] for data in cleansed_data]\n",
    "article_sentence_lengths = [data['article_sentence_length'] for data in cleansed_data]\n",
    "\n",
    "print(f'Average article word length: {sum(article_word_lengths) / len(article_word_lengths)}')\n",
    "print(f'Average article sentence length: {sum(article_sentence_lengths) / len(article_sentence_lengths)}')"
   ]
  },
  {
   "cell_type": "code",
   "execution_count": 29,
   "metadata": {},
   "outputs": [
    {
     "name": "stderr",
     "output_type": "stream",
     "text": [
      "56216it [00:00, 73461.26it/s]"
     ]
    },
    {
     "name": "stdout",
     "output_type": "stream",
     "text": [
      "Average summary word length: 228.68654831364736\n",
      "Average summary sentence length: 11.516916891988046\n"
     ]
    },
    {
     "name": "stderr",
     "output_type": "stream",
     "text": [
      "\n"
     ]
    }
   ],
   "source": [
    "# Average sentence length and word length of the summary\n",
    "\n",
    "for i, data in tqdm(enumerate(cleansed_data)):\n",
    "    # Word length\n",
    "    data['summary_word_length'] = len(data['summary'].split())\n",
    "\n",
    "    # Sentence length\n",
    "    data['summary_sentence_length'] = len(data['summary'].split('.'))\n",
    "\n",
    "summary_word_lengths = [data['summary_word_length'] for data in cleansed_data]\n",
    "summary_sentence_lengths = [data['summary_sentence_length'] for data in cleansed_data]\n",
    "\n",
    "print(f'Average summary word length: {sum(summary_word_lengths) / len(summary_word_lengths)}')\n",
    "print(f'Average summary sentence length: {sum(summary_sentence_lengths) / len(summary_sentence_lengths)}')"
   ]
  },
  {
   "cell_type": "code",
   "execution_count": 30,
   "metadata": {},
   "outputs": [
    {
     "name": "stdout",
     "output_type": "stream",
     "text": [
      "Number of data with article sentence length < 4: 45\n"
     ]
    }
   ],
   "source": [
    "# Count the number of data with article sentence length < 4\n",
    "\n",
    "article_sentence_length_less_than_4 = [data for data in cleansed_data if data['article_sentence_length'] < 4]\n",
    "\n",
    "print(f'Number of data with article sentence length < 4: {len(article_sentence_length_less_than_4)}')"
   ]
  },
  {
   "cell_type": "code",
   "execution_count": 31,
   "metadata": {},
   "outputs": [
    {
     "name": "stdout",
     "output_type": "stream",
     "text": [
      "Number of data with article word length < 40: 7\n"
     ]
    }
   ],
   "source": [
    "# Count the number of data with article word length < 40\n",
    "\n",
    "article_word_length_less_than_40 = [data for data in cleansed_data if data['article_word_length'] < 40]\n",
    "\n",
    "print(f'Number of data with article word length < 40: {len(article_word_length_less_than_40)}')"
   ]
  },
  {
   "cell_type": "code",
   "execution_count": 32,
   "metadata": {},
   "outputs": [
    {
     "name": "stdout",
     "output_type": "stream",
     "text": [
      "Number of data with summary word length < 10: 0\n"
     ]
    }
   ],
   "source": [
    "# Count the number of data with summary word length < 10\n",
    "\n",
    "summary_word_length_less_than_10 = [data for data in cleansed_data if data['summary_word_length'] < 10]\n",
    "\n",
    "print(f'Number of data with summary word length < 10: {len(summary_word_length_less_than_10)}')"
   ]
  },
  {
   "cell_type": "code",
   "execution_count": 33,
   "metadata": {},
   "outputs": [
    {
     "name": "stdout",
     "output_type": "stream",
     "text": [
      "Number of data with compression ratio < 50: 31994\n"
     ]
    }
   ],
   "source": [
    "# Count the number of data with compression < 50\n",
    "\n",
    "compression_ratio_less_than_50 = [data for data in cleansed_data if data['compression_ratio'] < 0.5]\n",
    "\n",
    "print(f'Number of data with compression ratio < 50: {len(compression_ratio_less_than_50)}')"
   ]
  },
  {
   "cell_type": "code",
   "execution_count": 34,
   "metadata": {},
   "outputs": [
    {
     "name": "stdout",
     "output_type": "stream",
     "text": [
      "Number of data with compression ratio > 80: 496\n"
     ]
    }
   ],
   "source": [
    "# Count the number of data with compression > 80\n",
    "\n",
    "compression_ratio_more_than_80 = [data for data in cleansed_data if data['compression_ratio'] > 0.8]\n",
    "\n",
    "print(f'Number of data with compression ratio > 80: {len(compression_ratio_more_than_80)}')"
   ]
  },
  {
   "cell_type": "code",
   "execution_count": 35,
   "metadata": {},
   "outputs": [
    {
     "name": "stdout",
     "output_type": "stream",
     "text": [
      "Number of data with abstractivity ratio < 10: 390\n"
     ]
    }
   ],
   "source": [
    "# Count the number of data with abstractivity < 10\n",
    "\n",
    "abstractivity_ratio_less_than_10 = [data for data in cleansed_data if data['abstractivity_ratio'] < 0.1]\n",
    "\n",
    "print(f'Number of data with abstractivity ratio < 10: {len(abstractivity_ratio_less_than_10)}')"
   ]
  },
  {
   "cell_type": "code",
   "execution_count": 36,
   "metadata": {},
   "outputs": [
    {
     "name": "stdout",
     "output_type": "stream",
     "text": [
      "Number of data with abstractivity ratio > 80: 126\n"
     ]
    }
   ],
   "source": [
    "# Count the number of data with abstractivity > 80\n",
    "\n",
    "abstractivity_ratio_more_than_80 = [data for data in cleansed_data if data['abstractivity_ratio'] > 0.8]\n",
    "\n",
    "print(f'Number of data with abstractivity ratio > 80: {len(abstractivity_ratio_more_than_80)}')"
   ]
  }
 ],
 "metadata": {
  "kernelspec": {
   "display_name": "proj-multinews",
   "language": "python",
   "name": "python3"
  },
  "language_info": {
   "codemirror_mode": {
    "name": "ipython",
    "version": 3
   },
   "file_extension": ".py",
   "mimetype": "text/x-python",
   "name": "python",
   "nbconvert_exporter": "python",
   "pygments_lexer": "ipython3",
   "version": "3.8.18"
  }
 },
 "nbformat": 4,
 "nbformat_minor": 2
}
